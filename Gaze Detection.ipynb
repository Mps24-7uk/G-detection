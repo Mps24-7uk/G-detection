{
 "cells": [
  {
   "cell_type": "code",
   "execution_count": 1,
   "metadata": {
    "collapsed": true
   },
   "outputs": [],
   "source": [
    "import dlib\n",
    "import cv2\n",
    "import numpy as np\n",
    "from imutils import face_utils"
   ]
  },
  {
   "cell_type": "code",
   "execution_count": 11,
   "metadata": {
    "collapsed": true
   },
   "outputs": [],
   "source": [
    "def pupil(Eye):\n",
    "    cv2.drawContours(mask, Eye, -1, (255, 255, 225), -1)\n",
    "    result = np.bitwise_and(frame,mask)\n",
    "    result[np.where((result==[0,0,0]).all(axis=2))] = [255,255,255]\n",
    "    ret,thresh1=cv2.threshold(cv2.cvtColor(result,cv2.COLOR_BGR2GRAY),50,255,cv2.THRESH_BINARY)\n",
    "    _,contours,_=cv2.findContours(thresh1,cv2.RETR_LIST,cv2.CHAIN_APPROX_SIMPLE)\n",
    "    n=len(contours)-1\n",
    "    return sorted(contours,key=cv2.contourArea,reverse=False)[:n]  "
   ]
  },
  {
   "cell_type": "code",
   "execution_count": 12,
   "metadata": {
    "collapsed": true
   },
   "outputs": [],
   "source": [
    "detect = dlib.get_frontal_face_detector()\n",
    "predict = dlib.shape_predictor(\"C:/Users/mayank singh/Desktop/Opencv/shape_predictor_68_face_landmarks.dat\")"
   ]
  },
  {
   "cell_type": "code",
   "execution_count": 13,
   "metadata": {
    "collapsed": true
   },
   "outputs": [],
   "source": [
    "(lStart, lEnd) = face_utils.FACIAL_LANDMARKS_IDXS[\"left_eye\"]\n",
    "(rStart, rEnd) = face_utils.FACIAL_LANDMARKS_IDXS[\"right_eye\"]\n",
    "\n",
    "cap=cv2.VideoCapture(0)\n",
    "\n",
    "while True:\n",
    "    ret, frame=cap.read()\n",
    "    gray = cv2.cvtColor(frame, cv2.COLOR_BGR2GRAY)\n",
    "    subjects = detect(gray, 0)\n",
    "    mask = np.zeros_like(frame)\n",
    "      \n",
    "    for subject in subjects:\n",
    "        shape = predict(gray, subject)\n",
    "\n",
    "        shape = face_utils.shape_to_np(shape)#converting to NumPy Array\n",
    "        \n",
    "        leftEye = shape[lStart:lEnd]\n",
    "        rightEye = shape[rStart:rEnd]\n",
    "         \n",
    "        cv2.drawContours(frame,pupil([leftEye]),-1,(0,255,0),-1)\n",
    "        cv2.drawContours(frame,pupil([rightEye]),-1,(0,255,0),-1)\n",
    "\n",
    "    cv2.imshow(\"Frame\",cv2.flip(frame,1))\n",
    "    if cv2.waitKey(1)==13:\n",
    "        break\n",
    "    \n",
    "cap.release()\n",
    "cv2.destroyAllWindows()\n"
   ]
  },
  {
   "cell_type": "code",
   "execution_count": null,
   "metadata": {
    "collapsed": true
   },
   "outputs": [],
   "source": []
  }
 ],
 "metadata": {
  "kernelspec": {
   "display_name": "Python 3",
   "language": "python",
   "name": "python3"
  },
  "language_info": {
   "codemirror_mode": {
    "name": "ipython",
    "version": 3
   },
   "file_extension": ".py",
   "mimetype": "text/x-python",
   "name": "python",
   "nbconvert_exporter": "python",
   "pygments_lexer": "ipython3",
   "version": "3.6.2"
  }
 },
 "nbformat": 4,
 "nbformat_minor": 2
}
